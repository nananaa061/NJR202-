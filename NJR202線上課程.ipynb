{
  "nbformat": 4,
  "nbformat_minor": 0,
  "metadata": {
    "colab": {
      "provenance": [],
      "authorship_tag": "ABX9TyNbB5lvqZFkynk+siQjh3kd",
      "include_colab_link": true
    },
    "kernelspec": {
      "name": "python3",
      "display_name": "Python 3"
    },
    "language_info": {
      "name": "python"
    }
  },
  "cells": [
    {
      "cell_type": "markdown",
      "metadata": {
        "id": "view-in-github",
        "colab_type": "text"
      },
      "source": [
        "<a href=\"https://colab.research.google.com/github/nananaa061/NJR202-/blob/main/NJR202%E7%B7%9A%E4%B8%8A%E8%AA%B2%E7%A8%8B.ipynb\" target=\"_parent\"><img src=\"https://colab.research.google.com/assets/colab-badge.svg\" alt=\"Open In Colab\"/></a>"
      ]
    },
    {
      "cell_type": "code",
      "execution_count": null,
      "metadata": {
        "id": "Mj_0ug-WbJlH"
      },
      "outputs": [],
      "source": []
    },
    {
      "cell_type": "markdown",
      "source": [
        "\n",
        "\n",
        "```\n",
        "Latex math\n",
        "\n",
        "$ $\n",
        "```\n",
        "\n"
      ],
      "metadata": {
        "id": "tqmoViIaeT7Q"
      }
    },
    {
      "cell_type": "markdown",
      "source": [
        "```\n",
        "二維list\n",
        "\n",
        "test = [[0.1, 0.2], [1.1, 1.2]]\n",
        "print(test[2][1])\n",
        "```\n"
      ],
      "metadata": {
        "id": "FUwfcmFMjLqt"
      }
    },
    {
      "cell_type": "code",
      "source": [
        "test = [[0.1, 0.2], [1.1, 1.2]]\n",
        "print(test[1][1])"
      ],
      "metadata": {
        "colab": {
          "base_uri": "https://localhost:8080/"
        },
        "id": "kYIsWYy7kGji",
        "outputId": "d9028dcd-188b-41eb-c0b4-f213e9f1f0c1"
      },
      "execution_count": 3,
      "outputs": [
        {
          "output_type": "stream",
          "name": "stdout",
          "text": [
            "1.2\n"
          ]
        }
      ]
    },
    {
      "cell_type": "code",
      "source": [
        "from posixpath import join\n",
        "# 做一個9*9\n",
        "# n1*n2 n1: 1-3 n2:1-5\n",
        "\n",
        "i = 0\n",
        "while i < 3:\n",
        "  n1 = i + 1\n",
        "  j = 0\n",
        "  while j < 5:\n",
        "    n2 = j + 1\n",
        "    ans = n1 * n2\n",
        "    j = j + 1\n",
        "    print(n1, \"*\", n2, \"=\", ans)\n",
        "  i = i + 1"
      ],
      "metadata": {
        "colab": {
          "base_uri": "https://localhost:8080/"
        },
        "id": "RfehIHR4mIuU",
        "outputId": "c247973a-3b8c-4255-8993-764f94b7f60c"
      },
      "execution_count": 7,
      "outputs": [
        {
          "output_type": "stream",
          "name": "stdout",
          "text": [
            "1 * 1 = 1\n",
            "1 * 2 = 2\n",
            "1 * 3 = 3\n",
            "1 * 4 = 4\n",
            "1 * 5 = 5\n",
            "2 * 1 = 2\n",
            "2 * 2 = 4\n",
            "2 * 3 = 6\n",
            "2 * 4 = 8\n",
            "2 * 5 = 10\n",
            "3 * 1 = 3\n",
            "3 * 2 = 6\n",
            "3 * 3 = 9\n",
            "3 * 4 = 12\n",
            "3 * 5 = 15\n"
          ]
        }
      ]
    }
  ]
}