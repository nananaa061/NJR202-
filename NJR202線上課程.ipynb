{
  "nbformat": 4,
  "nbformat_minor": 0,
  "metadata": {
    "colab": {
      "provenance": [],
      "authorship_tag": "ABX9TyMF7bOGspUigR2Hp5nLnjek",
      "include_colab_link": true
    },
    "kernelspec": {
      "name": "python3",
      "display_name": "Python 3"
    },
    "language_info": {
      "name": "python"
    }
  },
  "cells": [
    {
      "cell_type": "markdown",
      "metadata": {
        "id": "view-in-github",
        "colab_type": "text"
      },
      "source": [
        "<a href=\"https://colab.research.google.com/github/nananaa061/NJR202-/blob/main/NJR202%E7%B7%9A%E4%B8%8A%E8%AA%B2%E7%A8%8B.ipynb\" target=\"_parent\"><img src=\"https://colab.research.google.com/assets/colab-badge.svg\" alt=\"Open In Colab\"/></a>"
      ]
    },
    {
      "cell_type": "code",
      "execution_count": null,
      "metadata": {
        "id": "Mj_0ug-WbJlH"
      },
      "outputs": [],
      "source": []
    },
    {
      "cell_type": "markdown",
      "source": [
        "\n",
        "\n",
        "```\n",
        "Latex math\n",
        "\n",
        "$ $\n",
        "```\n",
        "\n"
      ],
      "metadata": {
        "id": "tqmoViIaeT7Q"
      }
    },
    {
      "cell_type": "markdown",
      "source": [
        "```\n",
        "二維list\n",
        "\n",
        "test = [[0.1, 0.2], [1.1, 1.2]]\n",
        "print(test[2][1])\n",
        "```\n"
      ],
      "metadata": {
        "id": "FUwfcmFMjLqt"
      }
    },
    {
      "cell_type": "code",
      "source": [
        "test = [[0.1, 0.2], [1.1, 1.2]]\n",
        "print(test[1][1])"
      ],
      "metadata": {
        "id": "kYIsWYy7kGji"
      },
      "execution_count": null,
      "outputs": []
    },
    {
      "cell_type": "code",
      "source": [
        "from posixpath import join\n",
        "# 做一個9*9\n",
        "# n1*n2 n1: 1-3 n2:1-5\n",
        "\n",
        "i = 0\n",
        "while i < 3:\n",
        "  n1 = i + 1\n",
        "  j = 0\n",
        "  while j < 5:\n",
        "    n2 = j + 1\n",
        "    ans = n1 * n2\n",
        "    j = j + 1\n",
        "    print(n1, \"*\", n2, \"=\", ans)\n",
        "  i = i + 1"
      ],
      "metadata": {
        "id": "RfehIHR4mIuU"
      },
      "execution_count": null,
      "outputs": []
    },
    {
      "cell_type": "code",
      "source": [
        "# O:1 空格:0 X:2\n",
        "board = [\n",
        "    [0, 0, 0],\n",
        "    [0, 0, 0],\n",
        "    [0, 0, 0]\n",
        "]\n",
        "# 判定輸贏：橫的/直的/斜的"
      ],
      "metadata": {
        "id": "FW75K-aYrb0Q"
      },
      "execution_count": 8,
      "outputs": []
    },
    {
      "cell_type": "code",
      "source": [
        "# 橫的\n",
        "board = [\n",
        "    [0, 1, 1],\n",
        "    [1, 1, 1],\n",
        "    [2, 2, 2]\n",
        "]\n",
        "# 固定board[0][0] 看 board[0][1] 和 board[0][2] 是否跟board[0][0]一樣\n",
        "i = 0\n",
        "while i < 3:\n",
        "  # 如果這列的第一個位置不是0\n",
        "  if board[i][0] != 0:\n",
        "    # 他們三個是一樣的\n",
        "    if board[i][0] == board[i][1] == board[i][2]:\n",
        "      print(i, \"WIN\")\n",
        "  i = i + 1"
      ],
      "metadata": {
        "id": "VJN8xa8wstHU"
      },
      "execution_count": null,
      "outputs": []
    },
    {
      "cell_type": "code",
      "source": [
        "# 直的\n",
        "board = [\n",
        "    [0, 1, 1],\n",
        "    [1, 1, 1],\n",
        "    [2, 2, 1]\n",
        "]\n",
        "# 固定board[0][0] 看 board[1][0] 和 board[2][0] 是否跟board[0][0]一樣\n",
        "j = 0\n",
        "while j < 3:\n",
        "  # 如果這欄的第一個位置不是0\n",
        "  if board[0][j] != 0:\n",
        "    # 他們三個是一樣的\n",
        "    if board[0][j] == board[1][j] == board[2][j]:\n",
        "      print(j, \"WIN\")\n",
        "  j = j + 1"
      ],
      "metadata": {
        "id": "ZGxKjLNb0SLE"
      },
      "execution_count": null,
      "outputs": []
    },
    {
      "cell_type": "code",
      "source": [
        "# 斜的\n",
        "board = [\n",
        "    [0, 1, 2],\n",
        "    [1, 2, 1],\n",
        "    [2, 2, 0]\n",
        "]\n",
        "# 00 11 22\n",
        "# 02 11 20\n",
        "if board[1][1] != 0:\n",
        "  if board[0][0] == board[1][1] == board[2][2]:\n",
        "    print(\"↘ win\")\n",
        "  if board[0][2] == board[1][1] == board[2][0]:\n",
        "    print(\"↙ win\")"
      ],
      "metadata": {
        "id": "DnQTwPcK1dqy"
      },
      "execution_count": null,
      "outputs": []
    },
    {
      "cell_type": "code",
      "source": [
        "# 印出來的功能\n",
        "board = [\n",
        "    [0, 1, 2],\n",
        "    [1, 2, 1],\n",
        "    [2, 2, 0]\n",
        "]\n",
        "\n",
        "print(\"目前盤面:\")\n",
        "i = 0\n",
        "while i < 3:\n",
        "    line = \"\"\n",
        "    j = 0\n",
        "    while j < 3:\n",
        "        pos = board[i][j]\n",
        "        if pos == 0:\n",
        "            line = line + \"_ \"\n",
        "        elif pos == 1:\n",
        "            line = line + \"O \"\n",
        "        elif pos == 2:\n",
        "            line = line + \"X \"\n",
        "        j = j + 1\n",
        "    print(line)\n",
        "    i = i + 1\n",
        "print(\"-\" * 20)  # 分隔線"
      ],
      "metadata": {
        "id": "VXghq2R-4M9M"
      },
      "execution_count": null,
      "outputs": []
    },
    {
      "cell_type": "code",
      "source": [
        "import random\n",
        "# 出拳\n",
        "board = [\n",
        "    [0, 0, 0],\n",
        "    [0, 0, 0],\n",
        "    [0, 0, 0]\n",
        "]\n",
        "\n",
        "round = 0\n",
        "\n",
        "while True:\n",
        "    while True:\n",
        "        if round % 2 == 0:\n",
        "            row = int(input(\"? row:\"))\n",
        "            col = int(input(\"? col:\"))\n",
        "        else:\n",
        "            row = random.randint(0, 2)\n",
        "            col = random.randint(0, 2)\n",
        "        # 如果這位置沒被下過\n",
        "        if board[row][col] == 0:\n",
        "            break\n",
        "        else:\n",
        "            print(\"位置被占了\")\n",
        "\n",
        "    # 決定o還x\n",
        "    if round % 2 == 0:\n",
        "        player = 1\n",
        "    else:\n",
        "        player = 2\n",
        "    board[row][col] = player\n",
        "    round = round + 1\n",
        "\n",
        "    # 印出來\n",
        "    print(\"目前盤面:\")\n",
        "    i = 0\n",
        "    while i < 3:\n",
        "        line = \"\"\n",
        "        j = 0\n",
        "        while j < 3:\n",
        "            pos = board[i][j]\n",
        "            if pos == 0:\n",
        "                line = line + \"_ \"\n",
        "            elif pos == 1:\n",
        "                line = line + \"O \"\n",
        "            elif pos == 2:\n",
        "                line = line + \"X \"\n",
        "            j = j + 1\n",
        "        print(line)\n",
        "        i = i + 1\n",
        "    print(\"-\" * 20)\n",
        "\n",
        "    # 橫的\n",
        "    # 固定board[0][0] 看 board[0][1] 和 board[0][2] 是否跟board[0][0]一樣\n",
        "    i = 0\n",
        "    while i < 3:\n",
        "        # 如果這列的第一個位置不是0\n",
        "        if not board[i][0] == 0:\n",
        "            # 他們三個是一樣的\n",
        "            if board[i][0] == board[i][1] == board[i][2]:\n",
        "                print(i, \"WIN\")\n",
        "                board = [\n",
        "                    [0, 0, 0],\n",
        "                    [0, 0, 0],\n",
        "                    [0, 0, 0]\n",
        "                ]\n",
        "                round = 0\n",
        "        i = i + 1\n",
        "\n",
        "    # 直的\n",
        "    # 固定board[0][0] 看 board[1][0] 和 board[2][0] 是否跟board[0][0]一樣\n",
        "\n",
        "    i = 0\n",
        "    while i < 3:\n",
        "        # 這一個直行的第一個不是0\n",
        "        if not board[0][i] == 0:\n",
        "            # 他們三個是一樣的\n",
        "            if board[0][i] == board[1][i] == board[2][i]:\n",
        "                print(i, \"WIN\")\n",
        "                # reset\n",
        "                board = [\n",
        "                    [0, 0, 0],\n",
        "                    [0, 0, 0],\n",
        "                    [0, 0, 0]\n",
        "                ]\n",
        "                round = 0\n",
        "        i = i + 1\n",
        "\n",
        "    # 斜的\n",
        "    # 00 11 22\n",
        "    # 02 11 20\n",
        "    if not board[1][1] == 0:\n",
        "        if board[0][0] == board[1][1] == board[2][2]:\n",
        "            print(\"左上到右下WIN\")\n",
        "            board = [\n",
        "                [0, 0, 0],\n",
        "                [0, 0, 0],\n",
        "                [0, 0, 0]\n",
        "            ]\n",
        "            round = 0\n",
        "        if board[0][2] == board[1][1] == board[2][0]:\n",
        "            print(\"右上到左下WIN\")\n",
        "            board = [\n",
        "                [0, 0, 0],\n",
        "                [0, 0, 0],\n",
        "                [0, 0, 0]\n",
        "            ]\n",
        "            round = 0"
      ],
      "metadata": {
        "id": "kkscQC8P4t5P"
      },
      "execution_count": null,
      "outputs": []
    },
    {
      "cell_type": "code",
      "source": [
        "board = [\n",
        "    [1, 0, 1],\n",
        "    [1, 2, 0],\n",
        "    [2, 2, 2]\n",
        "]\n",
        "# 固定board[0][0] 看 board[0][1] 和 board[0][2] 是否跟board[0][0]一樣\n",
        "# 固定board[1][0]         [1][1]         [1][2]\n",
        "i = 0\n",
        "while i < 3:\n",
        "    winner = True\n",
        "    check = board[i][0]\n",
        "    j = 0\n",
        "    while j < 3:\n",
        "        if not check == board[i][j]:\n",
        "            winner = False\n",
        "        j = j + 1\n",
        "    if winner == True:\n",
        "        print(i, \"WIN\")\n",
        "        break\n",
        "    i = i + 1"
      ],
      "metadata": {
        "id": "OzNLsisuELwx"
      },
      "execution_count": null,
      "outputs": []
    }
  ]
}